{
 "cells": [
  {
   "cell_type": "markdown",
   "id": "00c6f0b0-3ea1-45d1-bd05-f0d793aadbc5",
   "metadata": {},
   "source": [
    "## Question 2: Extracting Tesla Revenue"
   ]
  },
  {
   "cell_type": "code",
   "execution_count": 41,
   "id": "053fd398-2d9f-474c-8daf-233d2aa87bb9",
   "metadata": {
    "scrolled": true
   },
   "outputs": [
    {
     "name": "stdout",
     "output_type": "stream",
     "text": [
      "Requirement already satisfied: yfinance in c:\\users\\hfval\\anaconda3\\lib\\site-packages (0.2.43)\n",
      "Requirement already satisfied: pandas>=1.3.0 in c:\\users\\hfval\\anaconda3\\lib\\site-packages (from yfinance) (2.2.2)\n",
      "Requirement already satisfied: numpy>=1.16.5 in c:\\users\\hfval\\anaconda3\\lib\\site-packages (from yfinance) (1.26.4)\n",
      "Requirement already satisfied: requests>=2.31 in c:\\users\\hfval\\anaconda3\\lib\\site-packages (from yfinance) (2.32.2)\n",
      "Requirement already satisfied: multitasking>=0.0.7 in c:\\users\\hfval\\anaconda3\\lib\\site-packages (from yfinance) (0.0.11)\n",
      "Requirement already satisfied: lxml>=4.9.1 in c:\\users\\hfval\\anaconda3\\lib\\site-packages (from yfinance) (5.2.1)\n",
      "Requirement already satisfied: platformdirs>=2.0.0 in c:\\users\\hfval\\anaconda3\\lib\\site-packages (from yfinance) (3.10.0)\n",
      "Requirement already satisfied: pytz>=2022.5 in c:\\users\\hfval\\anaconda3\\lib\\site-packages (from yfinance) (2024.1)\n",
      "Requirement already satisfied: frozendict>=2.3.4 in c:\\users\\hfval\\anaconda3\\lib\\site-packages (from yfinance) (2.4.2)\n",
      "Requirement already satisfied: peewee>=3.16.2 in c:\\users\\hfval\\anaconda3\\lib\\site-packages (from yfinance) (3.17.6)\n",
      "Requirement already satisfied: beautifulsoup4>=4.11.1 in c:\\users\\hfval\\anaconda3\\lib\\site-packages (from yfinance) (4.12.3)\n",
      "Requirement already satisfied: html5lib>=1.1 in c:\\users\\hfval\\anaconda3\\lib\\site-packages (from yfinance) (1.1)\n",
      "Requirement already satisfied: soupsieve>1.2 in c:\\users\\hfval\\anaconda3\\lib\\site-packages (from beautifulsoup4>=4.11.1->yfinance) (2.5)\n",
      "Requirement already satisfied: six>=1.9 in c:\\users\\hfval\\anaconda3\\lib\\site-packages (from html5lib>=1.1->yfinance) (1.16.0)\n",
      "Requirement already satisfied: webencodings in c:\\users\\hfval\\anaconda3\\lib\\site-packages (from html5lib>=1.1->yfinance) (0.5.1)\n",
      "Requirement already satisfied: python-dateutil>=2.8.2 in c:\\users\\hfval\\anaconda3\\lib\\site-packages (from pandas>=1.3.0->yfinance) (2.9.0.post0)\n",
      "Requirement already satisfied: tzdata>=2022.7 in c:\\users\\hfval\\anaconda3\\lib\\site-packages (from pandas>=1.3.0->yfinance) (2023.3)\n",
      "Requirement already satisfied: charset-normalizer<4,>=2 in c:\\users\\hfval\\anaconda3\\lib\\site-packages (from requests>=2.31->yfinance) (2.0.4)\n",
      "Requirement already satisfied: idna<4,>=2.5 in c:\\users\\hfval\\anaconda3\\lib\\site-packages (from requests>=2.31->yfinance) (3.7)\n",
      "Requirement already satisfied: urllib3<3,>=1.21.1 in c:\\users\\hfval\\anaconda3\\lib\\site-packages (from requests>=2.31->yfinance) (2.2.2)\n",
      "Requirement already satisfied: certifi>=2017.4.17 in c:\\users\\hfval\\anaconda3\\lib\\site-packages (from requests>=2.31->yfinance) (2024.7.4)\n",
      "Requirement already satisfied: pandas in c:\\users\\hfval\\anaconda3\\lib\\site-packages (2.2.2)\n",
      "Requirement already satisfied: numpy>=1.26.0 in c:\\users\\hfval\\anaconda3\\lib\\site-packages (from pandas) (1.26.4)\n",
      "Requirement already satisfied: python-dateutil>=2.8.2 in c:\\users\\hfval\\anaconda3\\lib\\site-packages (from pandas) (2.9.0.post0)\n",
      "Requirement already satisfied: pytz>=2020.1 in c:\\users\\hfval\\anaconda3\\lib\\site-packages (from pandas) (2024.1)\n",
      "Requirement already satisfied: tzdata>=2022.7 in c:\\users\\hfval\\anaconda3\\lib\\site-packages (from pandas) (2023.3)\n",
      "Requirement already satisfied: six>=1.5 in c:\\users\\hfval\\anaconda3\\lib\\site-packages (from python-dateutil>=2.8.2->pandas) (1.16.0)\n",
      "Requirement already satisfied: matplotlib in c:\\users\\hfval\\anaconda3\\lib\\site-packages (3.8.4)\n",
      "Requirement already satisfied: contourpy>=1.0.1 in c:\\users\\hfval\\anaconda3\\lib\\site-packages (from matplotlib) (1.2.0)\n",
      "Requirement already satisfied: cycler>=0.10 in c:\\users\\hfval\\anaconda3\\lib\\site-packages (from matplotlib) (0.11.0)\n",
      "Requirement already satisfied: fonttools>=4.22.0 in c:\\users\\hfval\\anaconda3\\lib\\site-packages (from matplotlib) (4.51.0)\n",
      "Requirement already satisfied: kiwisolver>=1.3.1 in c:\\users\\hfval\\anaconda3\\lib\\site-packages (from matplotlib) (1.4.4)\n",
      "Requirement already satisfied: numpy>=1.21 in c:\\users\\hfval\\anaconda3\\lib\\site-packages (from matplotlib) (1.26.4)\n",
      "Requirement already satisfied: packaging>=20.0 in c:\\users\\hfval\\anaconda3\\lib\\site-packages (from matplotlib) (23.2)\n",
      "Requirement already satisfied: pillow>=8 in c:\\users\\hfval\\anaconda3\\lib\\site-packages (from matplotlib) (10.3.0)\n",
      "Requirement already satisfied: pyparsing>=2.3.1 in c:\\users\\hfval\\anaconda3\\lib\\site-packages (from matplotlib) (3.0.9)\n",
      "Requirement already satisfied: python-dateutil>=2.7 in c:\\users\\hfval\\anaconda3\\lib\\site-packages (from matplotlib) (2.9.0.post0)\n",
      "Requirement already satisfied: six>=1.5 in c:\\users\\hfval\\anaconda3\\lib\\site-packages (from python-dateutil>=2.7->matplotlib) (1.16.0)\n"
     ]
    }
   ],
   "source": [
    "!pip install yfinance\n",
    "!pip install pandas\n",
    "!pip install matplotlib"
   ]
  },
  {
   "cell_type": "code",
   "execution_count": 42,
   "id": "64ba4d92-9165-4e35-8a54-0f9586abe432",
   "metadata": {},
   "outputs": [],
   "source": [
    "import yfinance as yf\n",
    "import pandas as pd\n",
    "import matplotlib_inline"
   ]
  },
  {
   "cell_type": "code",
   "execution_count": 43,
   "id": "e087e1f0-1c06-4191-8fe6-2768c6dc3770",
   "metadata": {},
   "outputs": [],
   "source": [
    "tesla = yf.Ticker(\"TSLA\")\n"
   ]
  },
  {
   "cell_type": "code",
   "execution_count": 44,
   "id": "3c9cf3d9-4d3f-408b-bf9b-3bd9f16a6795",
   "metadata": {},
   "outputs": [],
   "source": [
    "financials_tesla = tesla.financials"
   ]
  },
  {
   "cell_type": "markdown",
   "id": "332f13fa-cac8-4d57-929b-5499b5fa5d8b",
   "metadata": {},
   "source": [
    "# Get the revenue"
   ]
  },
  {
   "cell_type": "code",
   "execution_count": 46,
   "id": "99c29f64-feaf-4606-81a9-6571da5a718c",
   "metadata": {
    "scrolled": true
   },
   "outputs": [
    {
     "name": "stdout",
     "output_type": "stream",
     "text": [
      "2023-12-31    96773000000.0\n",
      "2022-12-31    81462000000.0\n",
      "2021-12-31    53823000000.0\n",
      "2020-12-31    31536000000.0\n",
      "2019-12-31              NaN\n",
      "Name: Total Revenue, dtype: object\n"
     ]
    }
   ],
   "source": [
    "revenue_tsla = financials_tesla.loc['Total Revenue']\n",
    "print(revenue_tsla)"
   ]
  },
  {
   "cell_type": "markdown",
   "id": "08daafd5-d0a7-4e6f-8152-3b274179bcda",
   "metadata": {},
   "source": [
    "## Question 4: Extracting GameStop Revenue"
   ]
  },
  {
   "cell_type": "code",
   "execution_count": 65,
   "id": "ad23ca32-9193-4afc-a257-2da1615ad280",
   "metadata": {},
   "outputs": [],
   "source": [
    "gamestop = yf.Ticker(\"GME\")\n"
   ]
  },
  {
   "cell_type": "code",
   "execution_count": 69,
   "id": "69d41a0b-f01d-4f14-97b5-91934667f456",
   "metadata": {},
   "outputs": [],
   "source": [
    "financials_gamestop = gamestop.financials"
   ]
  },
  {
   "cell_type": "markdown",
   "id": "4d72a4fa-b9a1-4de1-b9ed-6a38f6c5063f",
   "metadata": {},
   "source": [
    "# Get the revenue"
   ]
  },
  {
   "cell_type": "code",
   "execution_count": 72,
   "id": "aa149677-3810-40c4-9707-0ef258142a9a",
   "metadata": {},
   "outputs": [
    {
     "name": "stdout",
     "output_type": "stream",
     "text": [
      "2024-01-31    5272800000.0\n",
      "2023-01-31    5927200000.0\n",
      "2022-01-31    6010700000.0\n",
      "2021-01-31    5089800000.0\n",
      "2020-01-31             NaN\n",
      "Name: Total Revenue, dtype: object\n"
     ]
    }
   ],
   "source": [
    "revenue_gme = financials_gamestop.loc['Total Revenue']\n",
    "print(revenue_gme)"
   ]
  },
  {
   "cell_type": "code",
   "execution_count": null,
   "id": "421947cd-7f06-49fe-9e0d-6e90edccef17",
   "metadata": {},
   "outputs": [],
   "source": []
  },
  {
   "cell_type": "markdown",
   "id": "f5219462-f8d8-4fed-877f-fae46b63e375",
   "metadata": {},
   "source": [
    "## Question 5: Plot Tesla Stock Graph\n",
    "Use the make_graph function to graph the Tesla Stock Data, also provide a title for the graph."
   ]
  },
  {
   "cell_type": "code",
   "execution_count": null,
   "id": "e15a532b-0476-450b-8e16-9f9d27daed9f",
   "metadata": {},
   "outputs": [],
   "source": []
  }
 ],
 "metadata": {
  "kernelspec": {
   "display_name": "Python 3 (ipykernel)",
   "language": "python",
   "name": "python3"
  },
  "language_info": {
   "codemirror_mode": {
    "name": "ipython",
    "version": 3
   },
   "file_extension": ".py",
   "mimetype": "text/x-python",
   "name": "python",
   "nbconvert_exporter": "python",
   "pygments_lexer": "ipython3",
   "version": "3.12.4"
  }
 },
 "nbformat": 4,
 "nbformat_minor": 5
}
